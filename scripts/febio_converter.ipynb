{
 "cells": [
  {
   "cell_type": "code",
   "execution_count": 33,
   "metadata": {},
   "outputs": [],
   "source": [
    "import xml.etree.ElementTree as ET\n",
    "import numpy as np\n",
    "\n",
    "import meshplot as mp"
   ]
  },
  {
   "cell_type": "code",
   "execution_count": 149,
   "metadata": {},
   "outputs": [],
   "source": [
    "def load_control(control, args):\n",
    "    if control is None:\n",
    "        return\n",
    "        \n",
    "    tsn = control.find(\"time_steps\")\n",
    "    ssn = control.find(\"step_size\")\n",
    "    an = control.find(\"analysis\")\n",
    "\n",
    "    \n",
    "    if tsn is not None and ssn is not None and an is not None:\n",
    "        if an.attrib[\"type\"] == \"dynamic\":\n",
    "            time_steps = int(tsn.text)\n",
    "            step_size = float(ssn.text)\n",
    "\n",
    "            args[\"time\"] = {\n",
    "                \"tend\": step_size * time_steps,\n",
    "                \"time_steps\": time_steps\n",
    "            }"
   ]
  },
  {
   "cell_type": "code",
   "execution_count": 156,
   "metadata": {},
   "outputs": [],
   "source": [
    "def load_materials(febio):\n",
    "    materials = {}\n",
    "\n",
    "    material_parent = febio.find(\"Material\")\n",
    "    \n",
    "    for material_node in material_parent.iter(\"material\"):\n",
    "        material = material_node.attrib[\"type\"]\n",
    "        mid = int(material_node.attrib[\"id\"])\n",
    "        \n",
    "        E = float(material_node.find(\"E\").text)\n",
    "        nu = float(material_node.find(\"v\").text)\n",
    "                  \n",
    "        if material_node.find(\"density\") is None:\n",
    "            rho = 1\n",
    "        else:\n",
    "            rho = float(material_node.find(\"density\").text)\n",
    "\n",
    "        mat = \"\"\n",
    "        if material == \"neo-Hookean\":\n",
    "            mat = \"NeoHookean\"\n",
    "        elif material == \"isotropic elastic\":\n",
    "            mat = \"LinearElasticity\"\n",
    "        else:\n",
    "            print(\"Unsupported material {}, reverting to isotropic elastic\".format(material))\n",
    "            mat = \"LinearElasticity\"\n",
    "            \n",
    "\n",
    "        materials[mid] = (E, nu, rho, mat)\n",
    "        \n",
    "        \n",
    "        return materials"
   ]
  },
  {
   "cell_type": "code",
   "execution_count": 150,
   "metadata": {},
   "outputs": [],
   "source": [
    "def load_nodes(geometry):\n",
    "    vertices = []\n",
    "    for nodes in geometry.iter(\"Nodes\"):\n",
    "        for child in nodes.iter(\"node\"):\n",
    "            pos_str = child.text\n",
    "            vs = pos_str.split(\",\")\n",
    "            assert(len(vs) == 3);\n",
    "            \n",
    "            vertices.append([float(vs[0]), float(vs[1]), float(vs[2])])\n",
    "\n",
    "\n",
    "    V = np.array(vertices)\n",
    "    \n",
    "    return V"
   ]
  },
  {
   "cell_type": "code",
   "execution_count": 151,
   "metadata": {},
   "outputs": [],
   "source": [
    "def load_elements(geometry, numV, materials):\n",
    "    els = []\n",
    "    nodes = []\n",
    "    mids = []\n",
    "    \n",
    "    order = 1\n",
    "    \n",
    "    is_hex = False\n",
    "    types = \"\"\n",
    "    \n",
    "    for elements in geometry.iter(\"Elements\"):\n",
    "        el_type = elements.attrib[\"type\"]\n",
    "        mid = int(elements.attrib[\"mat\"])\n",
    "\n",
    "        if el_type != \"tet4\" and el_type != \"tet10\" and el_type != \"tet20\" and el_type != \"hex8\":\n",
    "            print(\"Unsupported elemet type {}\".format(el_type))\n",
    "            continue\n",
    "\n",
    "\n",
    "        if len(types) == 0:\n",
    "            if el_type.startswith(\"tet\"):\n",
    "                types = \"tet\"\n",
    "            else:\n",
    "                types = \"hex\"\n",
    "        elif not el_type.startswith(types, 0):\n",
    "            print(\"Unsupported elemet type {} since the mesh contains also {}\".format(el_type, types))\n",
    "            continue\n",
    "\n",
    "        if el_type == \"tet4\":\n",
    "            order = max(1, order)\n",
    "        elif el_type == \"tet10\":\n",
    "            order = max(2, order)\n",
    "        elif el_type == \"tet20\":\n",
    "            order = max(3, order)\n",
    "        elif el_type == \"hex8\":\n",
    "            order = max(1, order)\n",
    "            is_hex = True\n",
    "                \n",
    "\n",
    "        for child in elements.iter(\"elem\"):\n",
    "                ids = child.text\n",
    "                tt = ids.split(\",\");\n",
    "                assert(len(tt) >= 4);\n",
    "                \n",
    "                node_size = 8 if is_hex else 4\n",
    "\n",
    "                els.append([])\n",
    "                \n",
    "                for n in range(node_size):\n",
    "                    els[-1].append(int(tt[n]) - 1)\n",
    "                    assert(els[-1][n] < numV)\n",
    "\n",
    "                nodes.append([])\n",
    "                mids.append(mid)\n",
    "                \n",
    "                for n in range(len(tt)):\n",
    "                    nodes[-1].append(int(tt[n]) - 1)\n",
    "\n",
    "                if el_type == \"tet10\":\n",
    "                    assert(len(nodes[-1]) == 10)\n",
    "                    nodes[-1][8], nodes[-1][9] = nodes[-1][9], nodes[-1][8]\n",
    "                elif el_type == \"tet20\":\n",
    "                    assert(len(nodes[-1]) == 20)\n",
    "                    nodes[-1][8], nodes[-1][9] = nodes[-1][9], nodes[-1][8]\n",
    "                    nodes[-1][10], nodes[-1][11] = nodes[-1][11], nodes[-1][10]\n",
    "                    nodes[-1][12], nodes[-1][15] = nodes[-1][15], nodes[-1][12]\n",
    "                    nodes[-1][13], nodes[-1][14] = nodes[-1][14], nodes[-1][13]\n",
    "                    nodes[-1][16], nodes[-1][19] = nodes[-1][19], nodes[-1][16]\n",
    "                    nodes[-1][17], nodes[-1][19] = nodes[-1][19], nodes[-1][17]\n",
    "\n",
    "\n",
    "    T = np.array(els)\n",
    "\n",
    "# \t\t\t\tT.resize(els.size(), is_hex ? 8 : 4);\n",
    "# \t\t\t\tEs.resize(els.size(), 1);\n",
    "# \t\t\t\tnus.resize(els.size(), 1);\n",
    "# \t\t\t\trhos.resize(els.size(), 1);\n",
    "# \t\t\t\tmats.resize(els.size());\n",
    "# \t\t\t\tfor (int i = 0; i < els.size(); ++i)\n",
    "# \t\t\t\t{\n",
    "# \t\t\t\t\tT.row(i) = els[i].transpose();\n",
    "# \t\t\t\t\tconst auto it = materials.find(mids[i]);\n",
    "# \t\t\t\t\tassert(it != materials.end());\n",
    "# \t\t\t\t\tif (it == materials.end())\n",
    "# \t\t\t\t\t{\n",
    "# \t\t\t\t\t\tlogger().error(\"Unable to find material {}\", mids[i]);\n",
    "# \t\t\t\t\t\tthrow std::runtime_error(\"Invalid material\");\n",
    "# \t\t\t\t\t}\n",
    "# \t\t\t\t\tEs(i) = std::get<0>(it->second);\n",
    "# \t\t\t\t\tnus(i) = std::get<1>(it->second);\n",
    "# \t\t\t\t\trhos(i) = std::get<2>(it->second);\n",
    "# \t\t\t\t\tmats[i] = std::get<3>(it->second);\n",
    "# \t\t\t\t}\n",
    "\n",
    "# \t\t\t\treturn order;\n",
    "# \t\t\t}\n",
    "                \n",
    "    return T"
   ]
  },
  {
   "cell_type": "code",
   "execution_count": 152,
   "metadata": {},
   "outputs": [],
   "source": [
    "output_json = {}\n",
    "output_json[\"output\"] = {\n",
    "    \"json\": \"sim.json\",\n",
    "    \"paraview\": {\n",
    "            \"file_name\": \"sim.pvd\",\n",
    "            \"surface\": True,\n",
    "            \"options\": {\n",
    "                \"material\": True,\n",
    "                \"body_ids\": True\n",
    "            },\n",
    "            \"vismesh_rel_area\": 10000000\n",
    "        }\n",
    "}"
   ]
  },
  {
   "cell_type": "code",
   "execution_count": 153,
   "metadata": {},
   "outputs": [
    {
     "data": {
      "text/plain": [
       "{'output': {'json': 'sim.json',\n",
       "  'paraview': {'file_name': 'sim.pvd',\n",
       "   'surface': True,\n",
       "   'options': {'material': True, 'body_ids': True},\n",
       "   'vismesh_rel_area': 10000000}},\n",
       " 'time': {'tend': 1.0, 'time_steps': 10}}"
      ]
     },
     "execution_count": 153,
     "metadata": {},
     "output_type": "execute_result"
    }
   ],
   "source": [
    "# tree = ET.parse(\"../data/test.feb\")\n",
    "tree = ET.parse(\"../data/lin-neo.feb\")\n",
    "\n",
    "root = tree.getroot()\n",
    "\n",
    "if root.attrib[\"version\"] != \"2.5\":\n",
    "    assert(False)\n",
    "    \n",
    "control = root.find(\"Control\")\n",
    "load_control(control, output_json)\n",
    "    \n",
    "    \n",
    "geometry = root.find(\"Geometry\");\n",
    "has_collisions = geometry.find(\"SurfacePair\")\n",
    "\n",
    "V = load_nodes(geometry)\n",
    "\n",
    "T = load_elements(geometry, V.shape[0], {})\n",
    "\n",
    "output_json"
   ]
  },
  {
   "cell_type": "code",
   "execution_count": 139,
   "metadata": {},
   "outputs": [
    {
     "data": {
      "application/vnd.jupyter.widget-view+json": {
       "model_id": "5e096e0565f34f28a1144a497c59fe4b",
       "version_major": 2,
       "version_minor": 0
      },
      "text/plain": [
       "Renderer(camera=PerspectiveCamera(children=(DirectionalLight(color='white', intensity=0.6, position=(0.0, 0.0,…"
      ]
     },
     "metadata": {},
     "output_type": "display_data"
    },
    {
     "data": {
      "text/plain": [
       "<meshplot.Viewer.Viewer at 0x7fd3a8283a58>"
      ]
     },
     "execution_count": 139,
     "metadata": {},
     "output_type": "execute_result"
    }
   ],
   "source": [
    "mp.plot(V, T, shading={\"point_size\": 1, \"wireframe\": True})"
   ]
  },
  {
   "cell_type": "code",
   "execution_count": 26,
   "metadata": {},
   "outputs": [
    {
     "data": {
      "text/plain": [
       "<Element 'Globals' at 0x7fd3f11eb098>"
      ]
     },
     "execution_count": 26,
     "metadata": {},
     "output_type": "execute_result"
    }
   ],
   "source": [
    "asd"
   ]
  },
  {
   "cell_type": "code",
   "execution_count": 27,
   "metadata": {},
   "outputs": [
    {
     "data": {
      "text/plain": [
       "<Element 'Globals' at 0x7fd3f11eb098>"
      ]
     },
     "execution_count": 27,
     "metadata": {},
     "output_type": "execute_result"
    }
   ],
   "source": [
    "root.find(\"Globals\")"
   ]
  },
  {
   "cell_type": "code",
   "execution_count": null,
   "metadata": {},
   "outputs": [],
   "source": []
  }
 ],
 "metadata": {
  "kernelspec": {
   "display_name": "Python 3",
   "language": "python",
   "name": "python3"
  },
  "language_info": {
   "codemirror_mode": {
    "name": "ipython",
    "version": 3
   },
   "file_extension": ".py",
   "mimetype": "text/x-python",
   "name": "python",
   "nbconvert_exporter": "python",
   "pygments_lexer": "ipython3",
   "version": "3.6.10"
  }
 },
 "nbformat": 4,
 "nbformat_minor": 4
}
